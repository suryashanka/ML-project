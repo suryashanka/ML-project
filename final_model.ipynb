{
  "nbformat": 4,
  "nbformat_minor": 0,
  "metadata": {
    "colab": {
      "provenance": []
    },
    "kernelspec": {
      "name": "python3",
      "display_name": "Python 3"
    },
    "language_info": {
      "name": "python"
    }
  },
  "cells": [
    {
      "cell_type": "markdown",
      "source": [
        "# Installs\n"
      ],
      "metadata": {
        "id": "0BO9zJ39QVjf"
      }
    },
    {
      "cell_type": "code",
      "source": [
        "!pip install keras-tuner"
      ],
      "metadata": {
        "colab": {
          "base_uri": "https://localhost:8080/"
        },
        "id": "7a3VhU5bHyBZ",
        "outputId": "2741addd-e2b8-4510-cf86-56fbe1a10d69"
      },
      "execution_count": null,
      "outputs": [
        {
          "output_type": "stream",
          "name": "stdout",
          "text": [
            "Collecting keras-tuner\n",
            "  Downloading keras_tuner-1.4.7-py3-none-any.whl.metadata (5.4 kB)\n",
            "Requirement already satisfied: keras in /usr/local/lib/python3.11/dist-packages (from keras-tuner) (3.8.0)\n",
            "Requirement already satisfied: packaging in /usr/local/lib/python3.11/dist-packages (from keras-tuner) (24.2)\n",
            "Requirement already satisfied: requests in /usr/local/lib/python3.11/dist-packages (from keras-tuner) (2.32.3)\n",
            "Collecting kt-legacy (from keras-tuner)\n",
            "  Downloading kt_legacy-1.0.5-py3-none-any.whl.metadata (221 bytes)\n",
            "Requirement already satisfied: absl-py in /usr/local/lib/python3.11/dist-packages (from keras->keras-tuner) (1.4.0)\n",
            "Requirement already satisfied: numpy in /usr/local/lib/python3.11/dist-packages (from keras->keras-tuner) (2.0.2)\n",
            "Requirement already satisfied: rich in /usr/local/lib/python3.11/dist-packages (from keras->keras-tuner) (13.9.4)\n",
            "Requirement already satisfied: namex in /usr/local/lib/python3.11/dist-packages (from keras->keras-tuner) (0.0.8)\n",
            "Requirement already satisfied: h5py in /usr/local/lib/python3.11/dist-packages (from keras->keras-tuner) (3.13.0)\n",
            "Requirement already satisfied: optree in /usr/local/lib/python3.11/dist-packages (from keras->keras-tuner) (0.15.0)\n",
            "Requirement already satisfied: ml-dtypes in /usr/local/lib/python3.11/dist-packages (from keras->keras-tuner) (0.4.1)\n",
            "Requirement already satisfied: charset-normalizer<4,>=2 in /usr/local/lib/python3.11/dist-packages (from requests->keras-tuner) (3.4.1)\n",
            "Requirement already satisfied: idna<4,>=2.5 in /usr/local/lib/python3.11/dist-packages (from requests->keras-tuner) (3.10)\n",
            "Requirement already satisfied: urllib3<3,>=1.21.1 in /usr/local/lib/python3.11/dist-packages (from requests->keras-tuner) (2.3.0)\n",
            "Requirement already satisfied: certifi>=2017.4.17 in /usr/local/lib/python3.11/dist-packages (from requests->keras-tuner) (2025.1.31)\n",
            "Requirement already satisfied: typing-extensions>=4.5.0 in /usr/local/lib/python3.11/dist-packages (from optree->keras->keras-tuner) (4.13.1)\n",
            "Requirement already satisfied: markdown-it-py>=2.2.0 in /usr/local/lib/python3.11/dist-packages (from rich->keras->keras-tuner) (3.0.0)\n",
            "Requirement already satisfied: pygments<3.0.0,>=2.13.0 in /usr/local/lib/python3.11/dist-packages (from rich->keras->keras-tuner) (2.18.0)\n",
            "Requirement already satisfied: mdurl~=0.1 in /usr/local/lib/python3.11/dist-packages (from markdown-it-py>=2.2.0->rich->keras->keras-tuner) (0.1.2)\n",
            "Downloading keras_tuner-1.4.7-py3-none-any.whl (129 kB)\n",
            "\u001b[2K   \u001b[90m━━━━━━━━━━━━━━━━━━━━━━━━━━━━━━━━━━━━━━━━\u001b[0m \u001b[32m129.1/129.1 kB\u001b[0m \u001b[31m3.8 MB/s\u001b[0m eta \u001b[36m0:00:00\u001b[0m\n",
            "\u001b[?25hDownloading kt_legacy-1.0.5-py3-none-any.whl (9.6 kB)\n",
            "Installing collected packages: kt-legacy, keras-tuner\n",
            "Successfully installed keras-tuner-1.4.7 kt-legacy-1.0.5\n"
          ]
        }
      ]
    },
    {
      "cell_type": "markdown",
      "source": [
        "## LOAD AND PREPROCESS DATA"
      ],
      "metadata": {
        "id": "rHim_DppLR4g"
      }
    },
    {
      "cell_type": "code",
      "source": [
        "import pandas as pd\n",
        "import numpy as np\n",
        "import re\n",
        "\n",
        "from sklearn.preprocessing import LabelEncoder, StandardScaler\n",
        "from sklearn.utils import resample\n",
        "from sklearn.ensemble import RandomForestClassifier, StackingClassifier\n",
        "from sklearn.model_selection import KFold, RandomizedSearchCV\n",
        "from scipy.stats import randint\n",
        "\n",
        "print(\"=== Step 1: LOAD AND PREPROCESS DATA ===\")\n",
        "train_df = pd.read_csv('train.csv')\n",
        "test_df  = pd.read_csv('test.csv')\n",
        "\n",
        "def bucket_age(age_str):\n",
        "    \"\"\"Convert age strings (e.g., '2 years', '4 weeks') into age buckets.\"\"\"\n",
        "    if pd.isna(age_str):\n",
        "        return \"Unknown\"\n",
        "\n",
        "    age_str = age_str.lower().strip()\n",
        "    conversion = {\"year\": 365, \"month\": 30, \"week\": 7, \"day\": 1}\n",
        "    match = re.match(r\"(\\d+)\\s*(year|month|week|day)s?\", age_str)\n",
        "    if match:\n",
        "        num = int(match.group(1))\n",
        "        unit = match.group(2)\n",
        "        days = num * conversion[unit]\n",
        "        if days <= 180:\n",
        "            return \"Baby\"\n",
        "        elif 181 <= days <= 730:\n",
        "            return \"Child\"\n",
        "        elif 1096 <= days < 4015:\n",
        "            return \"Adult\"\n",
        "        elif days >= 4015:\n",
        "            return \"Senior\"\n",
        "    return \"Unknown\"\n",
        "\n",
        "train_df[\"Age Bucket\"] = train_df[\"Age upon Intake\"].apply(bucket_age)\n",
        "\n",
        "# Get rid of wildlife record, since there is only one\n",
        "train_df = train_df[train_df[\"Intake Type\"] != \"Wildlife\"]\n",
        "\n",
        "columns_to_drop = [\n",
        "    'Name', 'Id', 'Intake Time', 'Outcome Time', 'Age upon Intake',\n",
        "    'Date of Birth', 'Color', 'Found Location', 'Breed'\n",
        "]\n",
        "train_df.drop(\n",
        "    columns=[col for col in columns_to_drop if col in train_df.columns],\n",
        "    inplace=True\n",
        ")\n",
        "\n",
        "# Group rare categories into \"Other\"\n",
        "min_count = 50\n",
        "rare_conditions = train_df['Intake Condition'].value_counts()\n",
        "rare_conditions = rare_conditions[rare_conditions < min_count].index\n",
        "train_df['Intake Condition'] = train_df['Intake Condition'].replace(rare_conditions, 'Other')\n",
        "\n",
        "print(\"Finished Step 1: Data loaded and preprocessed.\\n\")\n"
      ],
      "metadata": {
        "id": "JgZiwhOmTCLO",
        "colab": {
          "base_uri": "https://localhost:8080/"
        },
        "outputId": "6e0bb600-92a0-4c68-f65b-42defa69b95c"
      },
      "execution_count": null,
      "outputs": [
        {
          "output_type": "stream",
          "name": "stdout",
          "text": [
            "=== Step 1: LOAD AND PREPROCESS DATA ===\n"
          ]
        },
        {
          "output_type": "stream",
          "name": "stderr",
          "text": [
            "<ipython-input-2-8855cea0664d>:46: SettingWithCopyWarning: \n",
            "A value is trying to be set on a copy of a slice from a DataFrame\n",
            "\n",
            "See the caveats in the documentation: https://pandas.pydata.org/pandas-docs/stable/user_guide/indexing.html#returning-a-view-versus-a-copy\n",
            "  train_df.drop(\n"
          ]
        },
        {
          "output_type": "stream",
          "name": "stdout",
          "text": [
            "Finished Step 1: Data loaded and preprocessed.\n",
            "\n",
            "=== Step 2: BALANCE THE TRAINING DATA (Oversampling) ===\n",
            "Finished Step 2: Training data balanced.\n",
            "\n",
            "=== Step 3: ENCODE AND SCALE FEATURES ===\n",
            "Finished Step 3: Features encoded and scaled.\n",
            "\n",
            "=== Step 4: NESTED CROSS-VALIDATION + STACKING ===\n",
            "  Outer Fold 1 start...\n",
            "  Outer Fold 1 score: 0.4957\n",
            "  Best params for Outer Fold 1: {'final_estimator__max_depth': None, 'final_estimator__n_estimators': 78, 'rf1__max_depth': 5, 'rf1__n_estimators': 83, 'rf2__max_depth': None, 'rf2__n_estimators': 83}\n",
            "\n",
            "  Outer Fold 2 start...\n",
            "  Outer Fold 2 score: 0.4968\n",
            "  Best params for Outer Fold 2: {'final_estimator__max_depth': None, 'final_estimator__n_estimators': 78, 'rf1__max_depth': 5, 'rf1__n_estimators': 83, 'rf2__max_depth': None, 'rf2__n_estimators': 83}\n",
            "\n",
            "Outer fold accuracies: [0.4956689194099266, 0.4968025579536371]\n",
            "Mean accuracy: 0.49623573868178183\n",
            "Std of accuracies: 0.0005668192718552567\n",
            "Finished Step 4: Nested CV complete.\n",
            "\n",
            "=== Step 5: FINAL MODEL ON ALL DATA (OPTIONAL) ===\n",
            "Final model best params: {'final_estimator__max_depth': None, 'final_estimator__n_estimators': 78, 'rf1__max_depth': 5, 'rf1__n_estimators': 83, 'rf2__max_depth': None, 'rf2__n_estimators': 83}\n",
            "Final model CV accuracy: 0.49629024053484483\n",
            "Finished Step 5: Final model trained on entire dataset.\n",
            "\n",
            "=== Step 6: PREPROCESS TEST DATA ===\n",
            "Finished Step 6: Test data preprocessed.\n",
            "\n",
            "=== Step 7: MAKE PREDICTIONS ===\n",
            "Predictions saved to test_predictions_random_forest.csv\n",
            "Finished Step 7: End of script execution.\n"
          ]
        }
      ]
    },
    {
      "cell_type": "markdown",
      "source": [
        "# BALANCE THE TRAINING DATA (Oversampling)"
      ],
      "metadata": {
        "id": "bKsCRXd6Lkb5"
      }
    },
    {
      "cell_type": "code",
      "source": [
        "print(\"=== Step 2: BALANCE THE TRAINING DATA (Oversampling) ===\")\n",
        "adopted         = train_df[train_df[\"Outcome Type\"] == \"Adoption\"]\n",
        "transferred     = train_df[train_df[\"Outcome Type\"] == \"Transfer\"]\n",
        "euthanasia      = train_df[train_df[\"Outcome Type\"] == \"Euthanasia\"]\n",
        "return_to_owner = train_df[train_df[\"Outcome Type\"] == \"Return to Owner\"]\n",
        "died            = train_df[train_df[\"Outcome Type\"] == \"Died\"]\n",
        "\n",
        "max_count = max(len(adopted), len(transferred), len(euthanasia),\n",
        "                len(return_to_owner), len(died))\n",
        "\n",
        "adopted_oversampled         = resample(adopted,         replace=True, n_samples=max_count, random_state=42)\n",
        "transferred_oversampled     = resample(transferred,     replace=True, n_samples=max_count, random_state=42)\n",
        "euthanasia_oversampled      = resample(euthanasia,      replace=True, n_samples=max_count, random_state=42)\n",
        "return_to_owner_oversampled = resample(return_to_owner, replace=True, n_samples=max_count, random_state=42)\n",
        "died_oversampled            = resample(died,            replace=True, n_samples=max_count, random_state=42)\n",
        "\n",
        "balanced_train_df = pd.concat([\n",
        "    adopted_oversampled,\n",
        "    transferred_oversampled,\n",
        "    euthanasia_oversampled,\n",
        "    return_to_owner_oversampled,\n",
        "    died_oversampled\n",
        "])\n",
        "\n",
        "print(\"Finished Step 2: Training data balanced.\\n\")"
      ],
      "metadata": {
        "id": "5T-xSeOKLnQ0"
      },
      "execution_count": null,
      "outputs": []
    },
    {
      "cell_type": "markdown",
      "source": [
        "# ENCODE AND SCALE FEATURES"
      ],
      "metadata": {
        "id": "jYI9B6NgL2wC"
      }
    },
    {
      "cell_type": "code",
      "source": [
        "print(\"=== Step 3: ENCODE AND SCALE FEATURES ===\")\n",
        "label_encoder = LabelEncoder()\n",
        "balanced_train_df[\"Outcome Type\"] = label_encoder.fit_transform(\n",
        "    balanced_train_df[\"Outcome Type\"]\n",
        ")\n",
        "\n",
        "balanced_train_df = pd.get_dummies(balanced_train_df)\n",
        "\n",
        "X = balanced_train_df.drop(columns=[\"Outcome Type\"])\n",
        "y = balanced_train_df[\"Outcome Type\"]\n",
        "\n",
        "scaler = StandardScaler()\n",
        "X_scaled = scaler.fit_transform(X)\n",
        "\n",
        "print(\"Finished Step 3: Features encoded and scaled.\\n\")"
      ],
      "metadata": {
        "id": "HzrzA1tcLvMt"
      },
      "execution_count": null,
      "outputs": []
    },
    {
      "cell_type": "markdown",
      "source": [
        "# NESTED CROSS-VALIDATION + STACKING"
      ],
      "metadata": {
        "id": "mczpKSXGL_PT"
      }
    },
    {
      "cell_type": "code",
      "source": [
        "print(\"=== Step 4: NESTED CROSS-VALIDATION + STACKING ===\")\n",
        "# Fewer folds for faster training:\n",
        "outer_cv = KFold(n_splits=2, shuffle=True, random_state=42)  # Outer\n",
        "inner_cv = KFold(n_splits=2, shuffle=True, random_state=42)  # Inner\n",
        "\n",
        "# Base learners + meta-learner\n",
        "rf1     = RandomForestClassifier(random_state=42)\n",
        "rf2     = RandomForestClassifier(random_state=123)\n",
        "meta_rf = RandomForestClassifier(random_state=999)\n",
        "\n",
        "stack_clf = StackingClassifier(\n",
        "    estimators=[('rf1', rf1), ('rf2', rf2)],\n",
        "    final_estimator=meta_rf,\n",
        "    passthrough=False,\n",
        "    n_jobs=-1\n",
        ")\n",
        "\n",
        "# Narrow param space + fewer random draws for speed\n",
        "param_dist = {\n",
        "    # random integers in [50, 100]\n",
        "    'rf1__n_estimators': randint(50, 101),\n",
        "    'rf1__max_depth': [None, 5],\n",
        "    'rf2__n_estimators': randint(50, 101),\n",
        "    'rf2__max_depth': [None, 5],\n",
        "    'final_estimator__n_estimators': randint(50, 101),\n",
        "    'final_estimator__max_depth': [None, 5]\n",
        "}\n",
        "\n",
        "outer_scores = []\n",
        "fold_count = 1\n",
        "\n",
        "for train_idx, test_idx in outer_cv.split(X_scaled, y):\n",
        "    print(f\"  Outer Fold {fold_count} start...\")\n",
        "    X_train_fold, X_test_fold = X_scaled[train_idx], X_scaled[test_idx]\n",
        "    y_train_fold, y_test_fold = y.iloc[train_idx], y.iloc[test_idx]\n",
        "\n",
        "    rand_search = RandomizedSearchCV(\n",
        "        estimator=stack_clf,\n",
        "        param_distributions=param_dist,\n",
        "        n_iter=3,  # only 3 random draws\n",
        "        cv=inner_cv,\n",
        "        scoring='accuracy',\n",
        "        n_jobs=-1,\n",
        "        random_state=999\n",
        "    )\n",
        "\n",
        "    rand_search.fit(X_train_fold, y_train_fold)\n",
        "    best_model = rand_search.best_estimator_\n",
        "\n",
        "    fold_score = best_model.score(X_test_fold, y_test_fold)\n",
        "    outer_scores.append(fold_score)\n",
        "\n",
        "    print(f\"  Outer Fold {fold_count} score: {fold_score:.4f}\")\n",
        "    print(f\"  Best params for Outer Fold {fold_count}: {rand_search.best_params_}\\n\")\n",
        "    fold_count += 1\n",
        "\n",
        "print(\"Outer fold accuracies:\", outer_scores)\n",
        "print(\"Mean accuracy:\", np.mean(outer_scores))\n",
        "print(\"Std of accuracies:\", np.std(outer_scores))\n",
        "print(\"Finished Step 4: Nested CV complete.\\n\")\n",
        "\n",
        "print(\"=== Step 5: FINAL MODEL ON ALL DATA (OPTIONAL) ===\")\n",
        "# One more RandomizedSearchCV on entire dataset\n",
        "final_rand_search = RandomizedSearchCV(\n",
        "    estimator=stack_clf,\n",
        "    param_distributions=param_dist,\n",
        "    n_iter=3,   # same # of draws\n",
        "    cv=2,       # fewer folds for final\n",
        "    scoring='accuracy',\n",
        "    n_jobs=-1,\n",
        "    random_state=999\n",
        ")\n",
        "final_rand_search.fit(X_scaled, y)\n",
        "final_best_model = final_rand_search.best_estimator_\n",
        "\n",
        "print(\"Final model best params:\", final_rand_search.best_params_)\n",
        "print(\"Final model CV accuracy:\", final_rand_search.best_score_)\n",
        "print(\"Finished Step 5: Final model trained on entire dataset.\\n\")\n",
        "\n",
        "print(\"=== Step 6: PREPROCESS TEST DATA ===\")\n",
        "test_df[\"Age Bucket\"] = test_df[\"Age upon Intake\"].apply(bucket_age)\n",
        "test_df.drop(\n",
        "    columns=[col for col in columns_to_drop if col in test_df.columns],\n",
        "    inplace=True\n",
        ")\n",
        "test_df['Intake Condition'] = test_df['Intake Condition'].replace(rare_conditions, 'Other')\n",
        "test_df = pd.get_dummies(test_df)\n",
        "test_df = test_df.reindex(columns=X.columns, fill_value=0)\n",
        "test_df_scaled = scaler.transform(test_df)\n",
        "\n",
        "print(\"Finished Step 6: Test data preprocessed.\\n\")\n",
        "\n",
        "print(\"=== Step 7: MAKE PREDICTIONS ===\")\n",
        "pred_probs_stack = final_best_model.predict_proba(test_df_scaled)\n",
        "final_pred_indices = np.argmax(pred_probs_stack, axis=1)\n",
        "final_pred_classes = label_encoder.inverse_transform(final_pred_indices)\n",
        "\n",
        "test_predictions = pd.DataFrame({\n",
        "    \"Id\": range(1, len(final_pred_classes) + 1),\n",
        "    \"Outcome Type\": final_pred_classes\n",
        "})\n",
        "test_predictions.to_csv(\"test_predictions_random_forest.csv\", index=False)\n",
        "\n",
        "print(\"Predictions saved to test_predictions_random_forest.csv\")\n",
        "print(\"Finished Step 7: End of script execution.\")"
      ],
      "metadata": {
        "id": "8nmyvBTkLyWz"
      },
      "execution_count": null,
      "outputs": []
    },
    {
      "cell_type": "markdown",
      "source": [
        "# FINAL MODEL ON ALL DATA"
      ],
      "metadata": {
        "id": "YEZ8_EWWMNPe"
      }
    },
    {
      "cell_type": "code",
      "source": [
        "print(\"=== Step 5: FINAL MODEL ON ALL DATA ===\")\n",
        "# One more RandomizedSearchCV on entire dataset\n",
        "final_rand_search = RandomizedSearchCV(\n",
        "    estimator=stack_clf,\n",
        "    param_distributions=param_dist,\n",
        "    n_iter=3,   # same # of draws\n",
        "    cv=2,       # fewer folds for final\n",
        "    scoring='accuracy',\n",
        "    n_jobs=-1,\n",
        "    random_state=999\n",
        ")\n",
        "final_rand_search.fit(X_scaled, y)\n",
        "final_best_model = final_rand_search.best_estimator_\n",
        "\n",
        "print(\"Final model best params:\", final_rand_search.best_params_)\n",
        "print(\"Final model CV accuracy:\", final_rand_search.best_score_)\n",
        "print(\"Finished Step 5: Final model trained on entire dataset.\\n\")\n",
        "\n",
        "print(\"=== Step 6: PREPROCESS TEST DATA ===\")\n",
        "test_df[\"Age Bucket\"] = test_df[\"Age upon Intake\"].apply(bucket_age)\n",
        "test_df.drop(\n",
        "    columns=[col for col in columns_to_drop if col in test_df.columns],\n",
        "    inplace=True\n",
        ")\n",
        "test_df['Intake Condition'] = test_df['Intake Condition'].replace(rare_conditions, 'Other')\n",
        "test_df = pd.get_dummies(test_df)\n",
        "test_df = test_df.reindex(columns=X.columns, fill_value=0)\n",
        "test_df_scaled = scaler.transform(test_df)\n",
        "\n",
        "print(\"Finished Step 6: Test data preprocessed.\\n\")"
      ],
      "metadata": {
        "id": "wRidDNuQMC5K"
      },
      "execution_count": null,
      "outputs": []
    },
    {
      "cell_type": "markdown",
      "source": [
        "# MAKE PREDICTIONS"
      ],
      "metadata": {
        "id": "uOX_MqBXMXgC"
      }
    },
    {
      "cell_type": "code",
      "source": [
        "print(\"=== Step 7: MAKE PREDICTIONS ===\")\n",
        "pred_probs_stack = final_best_model.predict_proba(test_df_scaled)\n",
        "final_pred_indices = np.argmax(pred_probs_stack, axis=1)\n",
        "final_pred_classes = label_encoder.inverse_transform(final_pred_indices)\n",
        "\n",
        "test_predictions = pd.DataFrame({\n",
        "    \"Id\": range(1, len(final_pred_classes) + 1),\n",
        "    \"Outcome Type\": final_pred_classes\n",
        "})\n",
        "test_predictions.to_csv(\"test_predictions_random_forest.csv\", index=False)\n",
        "\n",
        "print(\"Predictions saved to test_predictions_random_forest.csv\")\n",
        "print(\"Finished Step 7: End of script execution.\")"
      ],
      "metadata": {
        "id": "Ymc1DLe-MU1L"
      },
      "execution_count": null,
      "outputs": []
    }
  ]
}